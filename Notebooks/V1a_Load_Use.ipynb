{
 "cells": [
  {
   "cell_type": "markdown",
   "id": "185be574",
   "metadata": {},
   "source": [
    "This notebook demonstrates how to load the V1 SLR prediction model (using ERA5 data) from Veals et al (2025), and apply it to a sample dataframe of atmospheric variables to yield a predicted SLR. It then generates a comparison plot between the observed SLR and model-predicted SLR."
   ]
  },
  {
   "cell_type": "code",
   "execution_count": null,
   "id": "4ece19ba",
   "metadata": {},
   "outputs": [],
   "source": [
    "import numpy as np\n",
    "import pandas as pd\n",
    "\n",
    "import pickle\n",
    "from matplotlib import pyplot as plt\n",
    "import time\n",
    "\n",
    "from matplotlib.colors import BoundaryNorm\n",
    "from sklearn.metrics import mean_absolute_error, mean_squared_error, r2_score   \n",
    "from sklearn.linear_model import LinearRegression\n",
    "from sklearn.model_selection import train_test_split\n",
    "from sklearn.ensemble import RandomForestRegressor\n",
    "\n",
    "import matplotlib.gridspec as gridspec\n",
    "from copy import copy\n",
    "pd.set_option('display.max_columns', None)"
   ]
  },
  {
   "cell_type": "code",
   "execution_count": null,
   "id": "1c584f2b",
   "metadata": {},
   "outputs": [],
   "source": [
    "slr_model_path = '~/Veals_etal_2025/Models/'\n",
    "slr_data_path = '~/Veals_etal_2025/Data/'"
   ]
  },
  {
   "cell_type": "code",
   "execution_count": null,
   "id": "857b6dba",
   "metadata": {},
   "outputs": [],
   "source": [
    "#Load the atmospheric data from the ERA5, and the observed SLRs. \n",
    "AtmData = pd.read_pickle(slr_data_path+'V1a_atmospheric_data.pd')\n",
    "ObsSLR = pd.read_pickle(slr_data_path+'V1a_observed_slr.pd')\n",
    "\n",
    "#Then load the trained Multiple Linear Regression model and the model keys.\n",
    "model = np.load(slr_model_path+'V1a_slr_model.npy', allow_pickle=True)[()]\n",
    "keys = np.load(slr_model_path+'V1a_slr_model_keys.npy', allow_pickle=True)"
   ]
  },
  {
   "cell_type": "code",
   "execution_count": null,
   "id": "5e185ee5",
   "metadata": {},
   "outputs": [],
   "source": [
    "#The keys will tell you which variables the Linear Regression expects to be fed into it\n",
    "AtmData = pd.DataFrame(AtmData.loc[:, list(keys)])\n",
    "Predicted_SLR = model.predict(AtmData)\n",
    "display(Predicted_SLR)"
   ]
  },
  {
   "cell_type": "code",
   "execution_count": null,
   "id": "798e6ae4",
   "metadata": {},
   "outputs": [],
   "source": [
    "#Plot Predicted SLR vs Observed SLR\n",
    "plt.rcParams.update({'font.size': 18})\n",
    "\n",
    "\n",
    "fig = plt.figure(figsize=(10,7))\n",
    "gs = gridspec.GridSpec(1, 1, hspace=0.15, wspace=0.05, left=0.09, bottom=0.09, right=0.96, top=0.96);\n",
    "ax=plt.subplot(gs[0, 0]); \n",
    "\n",
    "bins = np.arange(0, 51, 1.0)\n",
    "heatmap, xedges, yedges = np.histogram2d(ObsSLR, Predicted_SLR, bins = bins)\n",
    "bin_counts = np.sum(heatmap)\n",
    "bin_percents = (heatmap / bin_counts)\n",
    "cmap = copy(plt.get_cmap('plasma'))\n",
    "cmap.set_under('white', 1)\n",
    "    \n",
    "X, Y = np.meshgrid(xedges, yedges)\n",
    "    \n",
    "levels = [0, 1, 2, 4, 6, 8, 10, 12, 14, 16]\n",
    "levels[0] = 1e-5\n",
    "norm = BoundaryNorm(levels, ncolors = cmap.N, clip = True)\n",
    "\n",
    "heatmap = np.where(heatmap > 0, heatmap, np.nan)\n",
    "cbd = ax.pcolormesh(heatmap, cmap = cmap, norm = norm)\n",
    "\n",
    "ax.set_xticks(np.arange(0, 46, 5))\n",
    "ax.set_yticks(np.arange(0, 46, 5))\n",
    "ax.axline((0, 0), (1, 1), linewidth = 0.5, color = 'k', zorder = 1)\n",
    "ax.grid(True, which = 'major', linestyle = '-', color = 'k', alpha = 0.5)\n",
    "ax.grid(True, which = 'minor', color = 'k', linestyle = '-', alpha = 0.5)\n",
    "ax.tick_params(axis = 'both', which = 'major', labelsize = 16, pad = 5)\n",
    "ax.set_aspect('equal', adjustable = 'box')\n",
    "ax.set_ylabel('Observed SLR',fontsize=24,fontweight='bold')\n",
    "ax.set_xlabel('Predicted SLR',fontsize=24,fontweight='bold')\n",
    "CB=plt.colorbar(cbd)\n",
    "CB.set_label('n events',fontsize=20,fontweight='bold')\n",
    "\n",
    "ax.set_yticklabels(np.arange(0, 46, 5))\n",
    "ax.set_xticklabels(np.arange(0, 46, 5))\n",
    "ax.set_xlim(0, 50)\n",
    "ax.set_ylim(0, 50)\n",
    "\n",
    "\n",
    "fig.subplots_adjust(top=.85)\n",
    "plt.show()"
   ]
  },
  {
   "cell_type": "code",
   "execution_count": null,
   "id": "b4bd4005",
   "metadata": {},
   "outputs": [],
   "source": []
  },
  {
   "cell_type": "code",
   "execution_count": null,
   "id": "a04f7a0c",
   "metadata": {},
   "outputs": [],
   "source": []
  },
  {
   "cell_type": "code",
   "execution_count": null,
   "id": "99bbf2dd",
   "metadata": {},
   "outputs": [],
   "source": []
  }
 ],
 "metadata": {
  "kernelspec": {
   "display_name": "Python 3 (ipykernel)",
   "language": "python",
   "name": "python3"
  },
  "language_info": {
   "codemirror_mode": {
    "name": "ipython",
    "version": 3
   },
   "file_extension": ".py",
   "mimetype": "text/x-python",
   "name": "python",
   "nbconvert_exporter": "python",
   "pygments_lexer": "ipython3",
   "version": "3.9.15"
  }
 },
 "nbformat": 4,
 "nbformat_minor": 5
}
